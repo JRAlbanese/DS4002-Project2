{
 "cells": [
  {
   "cell_type": "code",
   "execution_count": 2,
   "metadata": {},
   "outputs": [],
   "source": [
    "import pandas as pd\n",
    "import numpy as np"
   ]
  },
  {
   "cell_type": "code",
   "execution_count": 3,
   "metadata": {},
   "outputs": [],
   "source": [
    "df = pd.read_csv(\"../DATA/new_immigration.csv\")\n",
    "population_df = pd.read_csv(\"../DATA/us_population.csv\")"
   ]
  },
  {
   "cell_type": "code",
   "execution_count": 4,
   "metadata": {},
   "outputs": [],
   "source": [
    "pop_column = population_df[\"Present-day borders\"]\n",
    "\n",
    "# take population column and add to migrant df\n",
    "df = pd.concat([df, pop_column.rename(\"total_pop\")], axis=1)\n",
    "\n",
    "\n",
    "# Remove commas and convert to int\n",
    "df['num_immigrants'] = df['num_immigrants'].str.replace(',', '').astype(int)\n"
   ]
  },
  {
   "cell_type": "code",
   "execution_count": 5,
   "metadata": {},
   "outputs": [
    {
     "data": {
      "text/html": [
       "<div>\n",
       "<style scoped>\n",
       "    .dataframe tbody tr th:only-of-type {\n",
       "        vertical-align: middle;\n",
       "    }\n",
       "\n",
       "    .dataframe tbody tr th {\n",
       "        vertical-align: top;\n",
       "    }\n",
       "\n",
       "    .dataframe thead th {\n",
       "        text-align: right;\n",
       "    }\n",
       "</style>\n",
       "<table border=\"1\" class=\"dataframe\">\n",
       "  <thead>\n",
       "    <tr style=\"text-align: right;\">\n",
       "      <th></th>\n",
       "      <th>year</th>\n",
       "      <th>num_immigrants</th>\n",
       "      <th>total_pop</th>\n",
       "    </tr>\n",
       "  </thead>\n",
       "  <tbody>\n",
       "    <tr>\n",
       "      <th>0</th>\n",
       "      <td>1948</td>\n",
       "      <td>170570</td>\n",
       "      <td>154000.00</td>\n",
       "    </tr>\n",
       "    <tr>\n",
       "      <th>1</th>\n",
       "      <td>1949</td>\n",
       "      <td>188317</td>\n",
       "      <td>156000.00</td>\n",
       "    </tr>\n",
       "    <tr>\n",
       "      <th>2</th>\n",
       "      <td>1950</td>\n",
       "      <td>249187</td>\n",
       "      <td>158804.40</td>\n",
       "    </tr>\n",
       "    <tr>\n",
       "      <th>3</th>\n",
       "      <td>1951</td>\n",
       "      <td>205717</td>\n",
       "      <td>160872.26</td>\n",
       "    </tr>\n",
       "    <tr>\n",
       "      <th>4</th>\n",
       "      <td>1952</td>\n",
       "      <td>265520</td>\n",
       "      <td>163266.03</td>\n",
       "    </tr>\n",
       "  </tbody>\n",
       "</table>\n",
       "</div>"
      ],
      "text/plain": [
       "   year  num_immigrants  total_pop\n",
       "0  1948          170570  154000.00\n",
       "1  1949          188317  156000.00\n",
       "2  1950          249187  158804.40\n",
       "3  1951          205717  160872.26\n",
       "4  1952          265520  163266.03"
      ]
     },
     "execution_count": 5,
     "metadata": {},
     "output_type": "execute_result"
    }
   ],
   "source": [
    "df.head()"
   ]
  },
  {
   "cell_type": "code",
   "execution_count": 6,
   "metadata": {},
   "outputs": [
    {
     "data": {
      "text/html": [
       "<div>\n",
       "<style scoped>\n",
       "    .dataframe tbody tr th:only-of-type {\n",
       "        vertical-align: middle;\n",
       "    }\n",
       "\n",
       "    .dataframe tbody tr th {\n",
       "        vertical-align: top;\n",
       "    }\n",
       "\n",
       "    .dataframe thead th {\n",
       "        text-align: right;\n",
       "    }\n",
       "</style>\n",
       "<table border=\"1\" class=\"dataframe\">\n",
       "  <thead>\n",
       "    <tr style=\"text-align: right;\">\n",
       "      <th></th>\n",
       "      <th>year</th>\n",
       "      <th>num_immigrants</th>\n",
       "      <th>total_pop</th>\n",
       "    </tr>\n",
       "  </thead>\n",
       "  <tbody>\n",
       "    <tr>\n",
       "      <th>0</th>\n",
       "      <td>1948</td>\n",
       "      <td>170570</td>\n",
       "      <td>154000000.0</td>\n",
       "    </tr>\n",
       "    <tr>\n",
       "      <th>1</th>\n",
       "      <td>1949</td>\n",
       "      <td>188317</td>\n",
       "      <td>156000000.0</td>\n",
       "    </tr>\n",
       "    <tr>\n",
       "      <th>2</th>\n",
       "      <td>1950</td>\n",
       "      <td>249187</td>\n",
       "      <td>158804400.0</td>\n",
       "    </tr>\n",
       "    <tr>\n",
       "      <th>3</th>\n",
       "      <td>1951</td>\n",
       "      <td>205717</td>\n",
       "      <td>160872260.0</td>\n",
       "    </tr>\n",
       "    <tr>\n",
       "      <th>4</th>\n",
       "      <td>1952</td>\n",
       "      <td>265520</td>\n",
       "      <td>163266030.0</td>\n",
       "    </tr>\n",
       "  </tbody>\n",
       "</table>\n",
       "</div>"
      ],
      "text/plain": [
       "   year  num_immigrants    total_pop\n",
       "0  1948          170570  154000000.0\n",
       "1  1949          188317  156000000.0\n",
       "2  1950          249187  158804400.0\n",
       "3  1951          205717  160872260.0\n",
       "4  1952          265520  163266030.0"
      ]
     },
     "execution_count": 6,
     "metadata": {},
     "output_type": "execute_result"
    }
   ],
   "source": [
    "# take population column and multiply by 1000 to get raw population\n",
    "df['total_pop'] = df['total_pop'].mul(1000)\n",
    "df.head()\n"
   ]
  },
  {
   "cell_type": "code",
   "execution_count": 7,
   "metadata": {},
   "outputs": [
    {
     "data": {
      "text/html": [
       "<div>\n",
       "<style scoped>\n",
       "    .dataframe tbody tr th:only-of-type {\n",
       "        vertical-align: middle;\n",
       "    }\n",
       "\n",
       "    .dataframe tbody tr th {\n",
       "        vertical-align: top;\n",
       "    }\n",
       "\n",
       "    .dataframe thead th {\n",
       "        text-align: right;\n",
       "    }\n",
       "</style>\n",
       "<table border=\"1\" class=\"dataframe\">\n",
       "  <thead>\n",
       "    <tr style=\"text-align: right;\">\n",
       "      <th></th>\n",
       "      <th>year</th>\n",
       "      <th>num_immigrants</th>\n",
       "      <th>total_pop</th>\n",
       "      <th>migrant_pop_percentage</th>\n",
       "    </tr>\n",
       "  </thead>\n",
       "  <tbody>\n",
       "    <tr>\n",
       "      <th>0</th>\n",
       "      <td>1948</td>\n",
       "      <td>170570</td>\n",
       "      <td>154000000.0</td>\n",
       "      <td>0.110760</td>\n",
       "    </tr>\n",
       "    <tr>\n",
       "      <th>1</th>\n",
       "      <td>1949</td>\n",
       "      <td>188317</td>\n",
       "      <td>156000000.0</td>\n",
       "      <td>0.120716</td>\n",
       "    </tr>\n",
       "    <tr>\n",
       "      <th>2</th>\n",
       "      <td>1950</td>\n",
       "      <td>249187</td>\n",
       "      <td>158804400.0</td>\n",
       "      <td>0.156914</td>\n",
       "    </tr>\n",
       "    <tr>\n",
       "      <th>3</th>\n",
       "      <td>1951</td>\n",
       "      <td>205717</td>\n",
       "      <td>160872260.0</td>\n",
       "      <td>0.127876</td>\n",
       "    </tr>\n",
       "    <tr>\n",
       "      <th>4</th>\n",
       "      <td>1952</td>\n",
       "      <td>265520</td>\n",
       "      <td>163266030.0</td>\n",
       "      <td>0.162630</td>\n",
       "    </tr>\n",
       "  </tbody>\n",
       "</table>\n",
       "</div>"
      ],
      "text/plain": [
       "   year  num_immigrants    total_pop  migrant_pop_percentage\n",
       "0  1948          170570  154000000.0                0.110760\n",
       "1  1949          188317  156000000.0                0.120716\n",
       "2  1950          249187  158804400.0                0.156914\n",
       "3  1951          205717  160872260.0                0.127876\n",
       "4  1952          265520  163266030.0                0.162630"
      ]
     },
     "execution_count": 7,
     "metadata": {},
     "output_type": "execute_result"
    }
   ],
   "source": [
    "# create new column that is a percentage of total pop\n",
    "df['migrant_pop_percentage'] = (df['num_immigrants'] / df['total_pop']) * 100\n",
    "df.head()"
   ]
  },
  {
   "cell_type": "code",
   "execution_count": 8,
   "metadata": {},
   "outputs": [],
   "source": [
    "gdp_df = pd.read_csv(\"../DATA/GDP.csv\")\n",
    "gdp_percent_df = pd.read_csv(\"../DATA/GDP_percent_change.csv\")\n",
    "\n",
    "chosenColumn = gdp_df[\"GDP\"]\n",
    "chosenColumn2 = gdp_percent_df[\"GDP_PC1\"]\n",
    "\n",
    "# add chosen columns to df\n",
    "df = pd.concat([df, chosenColumn], axis=1)\n",
    "df = pd.concat([df, chosenColumn2], axis=1)\n",
    "\n"
   ]
  },
  {
   "cell_type": "code",
   "execution_count": 13,
   "metadata": {},
   "outputs": [],
   "source": [
    "unemp_df = pd.read_csv(\"../DATA/cleaned_unemployment_data_1948_2022.csv\")\n",
    "unempColumn = unemp_df[\"Unemployment_rate\"]\n",
    "\n",
    "df = pd.concat([df, unempColumn], axis = 1)"
   ]
  }
 ],
 "metadata": {
  "kernelspec": {
   "display_name": "Python 3",
   "language": "python",
   "name": "python3"
  },
  "language_info": {
   "codemirror_mode": {
    "name": "ipython",
    "version": 3
   },
   "file_extension": ".py",
   "mimetype": "text/x-python",
   "name": "python",
   "nbconvert_exporter": "python",
   "pygments_lexer": "ipython3",
   "version": "3.11.9"
  }
 },
 "nbformat": 4,
 "nbformat_minor": 2
}

{
import pandas as pd

#the delimiter is ";" for some reason
file_path = "../DATA/unemployment-1890-1988.csv"
cleaning_old_unemp_data = pd.read_csv(file_path, delimiter=';', header=4)


cleaning_old_unemp_data.columns = ['Year', 'Unemployed_workers', 'Unemployment_rate', 'Extra1', 'Extra2'] #I don't know what to call the other empty columns


print("Initial data sample:")
print(cleaning_old_unemp_data.head())
#so it seems that, as I thought I saw before, there are columns that are filled with Na's instead of data, and the columns are not lined up right

#now I'm gonna move the values into the correct columns
cleaning_old_unemp_data['Year'] = cleaning_old_unemp_data['Unemployed_workers']  # Move 'Unemployed_workers' into 'Year'
cleaning_old_unemp_data['Unemployed_workers'] = cleaning_old_unemp_data['Unemployment_rate']  # Move 'Unemployment_rate' to 'Unemployed_workers'
cleaning_old_unemp_data['Unemployment_rate'] = cleaning_old_unemp_data['Extra1']  # Move 'Extra1' to 'Unemployment_rate'

#drop the useless columns
cleaning_old_unemp_data = cleaning_old_unemp_data[['Year', 'Unemployed_workers', 'Unemployment_rate']]


#Finally I can clean the important columns. Need to change the notation for decimals.
cleaning_old_unemp_data['Unemployed_workers'] = (
    cleaning_old_unemp_data['Unemployed_workers']
    .astype(str)
    .str.replace(',', '.', regex=False)
    .str.strip()
)

#Same thing for the unemployment rate
cleaning_old_unemp_data['Unemployment_rate'] = (
    cleaning_old_unemp_data['Unemployment_rate']
    .astype(str)
    .str.replace(',', '.', regex=False)
    .str.strip()
)

# Convert the cleaned columns to numeric
cleaning_old_unemp_data['Unemployed_workers'] = pd.to_numeric(cleaning_old_unemp_data['Unemployed_workers'], errors='coerce')
cleaning_old_unemp_data['Unemployment_rate'] = pd.to_numeric(cleaning_old_unemp_data['Unemployment_rate'], errors='coerce')

# need to multiply 'Unemployed_workers' by 1,000 to reflect correct values in thousands.
cleaning_old_unemp_data['Unemployed_workers'] = cleaning_old_unemp_data['Unemployed_workers'] * 1000

#Now I can drop Nan rows
cleaning_old_unemp_data = cleaning_old_unemp_data.dropna(subset=['Year', 'Unemployed_workers', 'Unemployment_rate'])

# Display final data structure to ensure rows remain.
print("\nData after dropping NaN values:")
print(cleaning_old_unemp_data.head())

# Save the cleaned dataframe to a new CSV file.
output_path = '../DATA/cleaned_unemployment_data_1890-1988.csv'
cleaning_old_unemp_data.to_csv(output_path, index=False)
}

{
#ok, we're gonna do basically the same thing for the more modern dataset. Worth noting, 
#this dataset doesn't provide the number of unemployed people

import pandas as pd


file_path = '../DATA/unemployment-1990-2022.csv'
cleaning_modern_unemp_data = pd.read_csv(file_path, delimiter=';', header=4)

#use the same convention for now
cleaning_modern_unemp_data.columns = ['Empty', 'Year', 'Unemployment_rate', 'Extra1', 'Extra2']
#and get rid of useless columns
cleaning_modern_unemp_data = cleaning_modern_unemp_data[['Year', 'Unemployment_rate']]

cleaning_modern_unemp_data['Year'] = cleaning_modern_unemp_data['Year'].astype(str).str.replace("'", "").str.strip()

import numpy as np
#Now i need to make the double-digit years into quadruple digit to match the other dataset.
cleaning_modern_unemp_data['Year'] = np.where(
    cleaning_modern_unemp_data['Year'].astype(int) >= 90,
    '19' + cleaning_modern_unemp_data['Year'],
    '20' + cleaning_modern_unemp_data['Year']
)


cleaning_modern_unemp_data['Unemployment_rate'] = cleaning_modern_unemp_data['Unemployment_rate'].str.replace(',', '.').str.strip()
cleaning_modern_unemp_data['Unemployment_rate'] = pd.to_numeric(cleaning_modern_unemp_data['Unemployment_rate'], errors='coerce')

#I'll just drop any rows containing NAN's
cleaning_modern_unemp_data = cleaning_modern_unemp_data.dropna()


print(cleaning_modern_unemp_data.head()) #data looks good!

output_path = '../DATA/cleaned_unemployment_data_1990_2022.csv'
cleaning_modern_unemp_data.to_csv(output_path, index=False)
}
{
#Ok, now I just need to combine the two cleaned csv's into one csv.

#also, i need to remove rows before the year 1948

import pandas as pd

file_path_1 = '../DATA/cleaned_unemployment_data_1890-1988.csv'
file_path_2 = '../DATA/cleaned_unemployment_data_1990_2022.csv'

unemployment_1890_1988 = pd.read_csv(file_path_1)
unemployment_1990_2022 = pd.read_csv(file_path_2)

combined_unemployment_data = pd.concat([unemployment_1890_1988, unemployment_1990_2022]) #just combined the datasets via concat

# sort by year to make sure it is chronological
combined_unemployment_data = combined_unemployment_data.sort_values(by='Year')

# We chose to filter out before the yeafr 1948
combined_unemployment_data = combined_unemployment_data[combined_unemployment_data['Year'].astype(int) >= 1948]


output_path_filtered = '../DATA/cleaned_unemployment_data_1948_2022.csv'
combined_unemployment_data.to_csv(output_path_filtered, index=False)


}
{
#I'll just make some basic plots to show how the unemployment rate varied over time. I'll focus on
#the unemployment *rate*, since not every row has data on unemployment numbers, and rate
#is probably a better indicator of the impact of unemployment anyways.


import pandas as pd
import matplotlib.pyplot as plt


file_path = '../DATA/cleaned_unemployment_data_1948_2022.csv'
data = pd.read_csv(file_path)

# This is a line plot
plt.figure(figsize=(10, 6))
plt.plot(data['Year'], data['Unemployment_rate'], marker='o', color='b')
plt.title('Unemployment Rate Over the Years')
plt.xlabel('Year')
plt.ylabel('Unemployment Rate (%)')
plt.grid(True)
plt.show()

# Bar plot
plt.figure(figsize=(10, 6))
plt.bar(data['Year'], data['Unemployed_workers'], color='g')
plt.title('Unemployed Workers Over the Years')
plt.xlabel('Year')
plt.ylabel('Unemployed Workers (Thousands)')
plt.xticks(rotation=90)
plt.show()


#Here i played around a little and added a column that describes the change in the year-to-year unemployment rate
data['Unemployment_rate_change'] = data['Unemployment_rate'].pct_change() * 100

plt.figure(figsize=(10, 6))
plt.plot(data['Year'], data['Unemployment_rate_change'], marker='o', color='purple')
plt.title('Yearly Percentage Change in Unemployment Rate')
plt.xlabel('Year')
plt.ylabel('Percentage Change (%)')
plt.grid(True)
plt.show()
}
{
#Ok, now let's make some graphs comparing the different csv's we've created. First, I need to do some more cleaning though

import pandas as pd

# Load datasets
gdp_data = pd.read_csv('../DATA/GDP.csv')
gdp_percent_change_data = pd.read_csv('../DATA/GDP_percent_change.csv')
immigration_data = pd.read_csv('../DATA/new_immigration.csv')

# I'll remove commas and convert to numeric so we can use the numbers
immigration_data['num_immigrants'] = immigration_data['num_immigrants'].str.replace(',', '').astype(float)

# Convert DATE columns in GDP and GDP percentage change datasets to datetime format for consistency
#We'll use the to.datetime function which I found online: https://pandas.pydata.org/docs/reference/api/pandas.to_datetime.html
#and refer to datetime documentation: https://docs.python.org/3/library/datetime.html
#, then, I'll get the year so that we can easily compare this dataset to the others, like unemployment

gdp_data['DATE'] = pd.to_datetime(gdp_data['DATE'])
gdp_percent_change_data['DATE'] = pd.to_datetime(gdp_percent_change_data['DATE'])
gdp_data['year'] = gdp_data['DATE'].dt.year
gdp_percent_change_data['year'] = gdp_percent_change_data['DATE'].dt.year



# Now I'll merge all datasets according to 'year' column
merged_data = pd.merge(gdp_data[['year', 'GDP']], immigration_data, on='year', how='inner')
merged_data = pd.merge(merged_data, gdp_percent_change_data[['year', 'GDP_PC1']], on='year', how='inner')

print(merged_data.head())#OK, it looks like this all worked!!


#alright, now I can make a few more graphs:

# This produces a scatter plot showing Immigration vs. GDP percentage change
plt.figure(figsize=(10, 6))
plt.scatter(merged_data['num_immigrants'], merged_data['GDP_PC1'], color='red', alpha=0.7)
plt.title('Immigration vs. GDP Percentage Change')
plt.xlabel('Number of Immigrants')
plt.ylabel('GDP Percentage Change (%)')
plt.grid(True)
plt.ticklabel_format(style='plain', axis='x')
plt.show()


#NOw a similar thing for immigration vs unemployment: # Scatter plot of Immigration vs Unemployment Rate
#first I gotta merge my old dataset with unemployment:

unemployment_data_original = '../DATA/cleaned_unemployment_data_1948_2022.csv'
unemployment_data = pd.read_csv(unemployment_data_original)
merged_data_with_unemployment = pd.merge(merged_data, unemployment_data[['Year', 'Unemployment_rate']], left_on='year', right_on='Year', how='inner')
    #^this just merges using matching years

plt.figure(figsize=(10, 6))
plt.scatter(merged_data_with_unemployment['num_immigrants'], merged_data_with_unemployment['Unemployment_rate'], color='purple', alpha=0.7)
plt.title('Immigration vs. Unemployment Rate')
plt.xlabel('Number of Immigrants')
plt.ylabel('Unemployment Rate (%)')
plt.grid(True)
plt.ticklabel_format(style='plain', axis='x')  
plt.show()
}
